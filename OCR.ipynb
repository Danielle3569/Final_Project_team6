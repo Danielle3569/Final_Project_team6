{
 "cells": [
  {
   "cell_type": "code",
   "execution_count": 21,
   "metadata": {},
   "outputs": [
    {
     "name": "stdout",
     "output_type": "stream",
     "text": [
      "Running on local URL:  http://127.0.0.1:7880\n",
      "\n",
      "To create a public link, set `share=True` in `launch()`.\n"
     ]
    },
    {
     "data": {
      "text/html": [
       "<div><iframe src=\"http://127.0.0.1:7880/\" width=\"100%\" height=\"500\" allow=\"autoplay; camera; microphone; clipboard-read; clipboard-write;\" frameborder=\"0\" allowfullscreen></iframe></div>"
      ],
      "text/plain": [
       "<IPython.core.display.HTML object>"
      ]
     },
     "metadata": {},
     "output_type": "display_data"
    },
    {
     "data": {
      "text/plain": []
     },
     "execution_count": 21,
     "metadata": {},
     "output_type": "execute_result"
    },
    {
     "name": "stdout",
     "output_type": "stream",
     "text": [
      ":종대협 1종보통 :출소한\n",
      "특수(대험견인, 소혈건인, 구난}\n",
      "자동차운전면허증 (Driver's License)\n",
      "2홍보품, 2층 소정 원동기\n",
      "12-34-567890-01\n",
      "홍길순\n",
      "● 흔들기 설정\n",
      "123456 - 123456\n",
      "'' QR 할영\n",
      "서울시 서대문구 통일로 97\n",
      "(미근동)\n",
      "적성검사 :\n",
      "2029.01.01\n",
      "기간 :\n",
      "~ 2029.12.31\n",
      "XLEDID\n",
      "모바일 신분증\n",
      "조 건 :\n",
      "A\n",
      "2019.09.10.\n",
      "서울특별시경찰청장\n",
      "2021.03.11 09:42:02\n",
      "36 나의 QR\n",
      "? 법적 효력 >\n",
      "三\n"
     ]
    }
   ],
   "source": [
    "import requests\n",
    "import gradio as gr\n",
    "from PIL import Image, ImageDraw, ImageFont\n",
    "import json\n",
    "import platform\n",
    "\n",
    "\n",
    "def request_vision(image_path):\n",
    "    endpoint = f\"https://computervision06.cognitiveservices.azure.com/computervision/imageanalysis:analyze\"\n",
    "    api_key = \"c7703f4920df4cda8965e7e170e94214\"\n",
    "\n",
    "    headers = {\n",
    "        \"Content-Type\": \"application/octet-stream\",\n",
    "        \"Ocp-Apim-Subscription-Key\": api_key\n",
    "    }\n",
    "\n",
    "    params = {\n",
    "        'api-version': '2024-02-01',\n",
    "        'features': 'read,caption'\n",
    "    }\n",
    "\n",
    "    with open(image_path, 'rb') as image:\n",
    "        image_data = image.read()\n",
    "\n",
    "    response = requests.post(endpoint,\n",
    "                             headers=headers,\n",
    "                             params=params,\n",
    "                             data=image_data)\n",
    "    \n",
    "    response_json = response.json()\n",
    "    return response_json\n",
    "\n",
    "\n",
    "def change_image(image_path):\n",
    "\n",
    "    image = Image.open(image_path)\n",
    "    draw = ImageDraw.Draw(image)\n",
    "\n",
    "    font_size = 20\n",
    "    if platform.system() == 'Darwin':\n",
    "        font = ImageFont.truetype('AppleGothic.ttf', size=font_size)\n",
    "    elif platform.system() == 'Windows':\n",
    "        font = ImageFont.truetype('malgun.ttf', size=font_size)\n",
    "    else:\n",
    "        font = ImageFont.load_default(size=font_size)\n",
    "    \n",
    "    response_json = request_vision(image_path=image_path)\n",
    "    if 'readResult' in response_json and 'blocks' in response_json['readResult']:\n",
    "        block_list = response_json['readResult']['blocks']\n",
    "\n",
    "        for block in block_list:\n",
    "            line_list = block['lines']\n",
    "            for line in line_list:\n",
    "                text = line['text']\n",
    "                bounding_polygon = line['boundingPolygon']\n",
    "                polygon = list(map(lambda p: (p['x'], p['y']), bounding_polygon))\n",
    "                draw.polygon(polygon, outline='red', fill=None, width=3)\n",
    "                draw.text((bounding_polygon[3]['x'], bounding_polygon[3]['y'] + 3), text=text, fill='green', font=font)\n",
    "                print(text, bounding_polygon)\n",
    "                # print(text)\n",
    "\n",
    "    # for i in range(len(response_json)):        \n",
    "    # print(response_json)\n",
    "\n",
    "    return image\n",
    "\n",
    "with gr.Blocks() as demo:\n",
    "\n",
    "    input_image = gr.Image(label='이미지 선택', type='filepath', width=800)\n",
    "    output_image = gr.Image(label='결과 이미지', type='pil', interactive=False, width=800)\n",
    "\n",
    "    input_image.change(fn=change_image, inputs=[input_image], outputs=[output_image])\n",
    "\n",
    "demo.launch()\n",
    "\n",
    "# change_image('이미지.png')\n"
   ]
  }
 ],
 "metadata": {
  "kernelspec": {
   "display_name": "Python 3",
   "language": "python",
   "name": "python3"
  },
  "language_info": {
   "codemirror_mode": {
    "name": "ipython",
    "version": 3
   },
   "file_extension": ".py",
   "mimetype": "text/x-python",
   "name": "python",
   "nbconvert_exporter": "python",
   "pygments_lexer": "ipython3",
   "version": "3.12.5"
  }
 },
 "nbformat": 4,
 "nbformat_minor": 2
}
