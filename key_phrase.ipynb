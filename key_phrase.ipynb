{
 "cells": [
  {
   "cell_type": "code",
   "execution_count": 6,
   "metadata": {},
   "outputs": [
    {
     "name": "stdout",
     "output_type": "stream",
     "text": [
      "Note: you may need to restart the kernel to use updated packages.\n"
     ]
    },
    {
     "name": "stderr",
     "output_type": "stream",
     "text": [
      "ERROR: Could not find a version that satisfies the requirement auzre-core-credentials (from versions: none)\n",
      "ERROR: No matching distribution found for auzre-core-credentials\n"
     ]
    }
   ],
   "source": [
    "pip install auzre-core-credentials"
   ]
  },
  {
   "cell_type": "code",
   "execution_count": 9,
   "metadata": {},
   "outputs": [
    {
     "name": "stdout",
     "output_type": "stream",
     "text": [
      "In this sample, we want to find the articles that mention Microsoft to read.\n",
      "Key phrases in article #1: D.C. Autumn, beautiful season, clearer view, blue sky, yellow leaves, Washington, DC, trees, city, forests, ground\n",
      "Key phrases in article #2: United States workers, start date, Redmond, WA, past, days, Microsoft, pandemic, end, sight\n",
      "Key phrases in article #3: new coffee shop, Redmond, WA, Employees, Microsoft, campus, workers\n",
      "Key phrases in article #4: det, 다, 고, 과, 벡, 하시오, 성, 방정, 따라서, 은, 각각의, λ\n",
      "The articles that mention Microsoft are articles number: 2, 3. Those are the ones I'm interested in reading.\n"
     ]
    }
   ],
   "source": [
    "# -------------------------------------------------------------------------\n",
    "# Copyright (c) Microsoft Corporation. All rights reserved.\n",
    "# Licensed under the MIT License. See License.txt in the project root for\n",
    "# license information.\n",
    "# --------------------------------------------------------------------------\n",
    "\n",
    "\"\"\"\n",
    "FILE: sample_extract_key_phrases.py\n",
    "\n",
    "DESCRIPTION:\n",
    "    This sample demonstrates how to extract key talking points from a batch of documents.\n",
    "\n",
    "    In this sample, we want to go over articles and read the ones that mention Microsoft.\n",
    "    We're going to use the SDK to create a rudimentary search algorithm to find these articles.\n",
    "\n",
    "USAGE:\n",
    "    python sample_extract_key_phrases.py\n",
    "\n",
    "    Set the environment variables with your own values before running the sample:\n",
    "    1) AZURE_LANGUAGE_ENDPOINT - the endpoint to your Language resource.\n",
    "    2) AZURE_LANGUAGE_KEY - your Language subscription key\n",
    "\"\"\"\n",
    "\n",
    "\n",
    "def sample_extract_key_phrases() -> None:\n",
    "    print(\n",
    "        \"In this sample, we want to find the articles that mention Microsoft to read.\"\n",
    "    )\n",
    "    articles_that_mention_microsoft = []\n",
    "    # [START extract_key_phrases]\n",
    "    import os\n",
    "    from azure.core.credentials import AzureKeyCredential\n",
    "    from azure.ai.textanalytics import TextAnalyticsClient\n",
    "\n",
    "    # endpoint = os.environ[\"AZURE_LANGUAGE_ENDPOINT\"]\n",
    "    # key = os.environ[\"AZURE_LANGUAGE_KEY\"]\n",
    "\n",
    "    endpoint = \"https://langteam06.cognitiveservices.azure.com/\"\n",
    "    key = \"932019852bc4470c85654a6f43535a11\"\n",
    "\n",
    "    text_analytics_client = TextAnalyticsClient(endpoint=endpoint, credential=AzureKeyCredential(key))\n",
    "    articles = [\n",
    "        \"\"\"\n",
    "        Washington, D.C. Autumn in DC is a uniquely beautiful season. The leaves fall from the trees\n",
    "        in a city chock-full of forests, leaving yellow leaves on the ground and a clearer view of the\n",
    "        blue sky above...\n",
    "        \"\"\",\n",
    "        \"\"\"\n",
    "        Redmond, WA. In the past few days, Microsoft has decided to further postpone the start date of\n",
    "        its United States workers, due to the pandemic that rages with no end in sight...\n",
    "        \"\"\",\n",
    "        \"\"\"\n",
    "        Redmond, WA. Employees at Microsoft can be excited about the new coffee shop that will open on campus\n",
    "        once workers no longer have to work remotely...\n",
    "        \"\"\",\n",
    "        \"\"\"\n",
    "        다음 행렬의 고유값과 고유벡터를 구하시오:\n",
    "        A=(21​12​)\n",
    "        고유값을 구하기 위해 행렬의 특성 방정식을 풉니다.\n",
    "        det(A−λI)=0\n",
    "        ​2−λ1​12−λ​​=(2−λ)2−1=λ2−4λ+3=0\n",
    "        (λ−3)(λ−1)=0\n",
    "        따라서, 고유값은 λ1​=3\n",
    "        , λ2​=1\n",
    "        입니다.\n",
    "        고유값에 대응하는 고유벡터를 구합니다.\n",
    "        (A−3I)v=0및(A−I)v=0\n",
    "        각각의 고유값에 대해 고유벡터를 구하면,\n",
    "        λ1​=3⇒v1​=(11​)\n",
    "        λ2​=1⇒v2​=(1−1​)\n",
    "        \"\"\"\n",
    "    ]\n",
    "\n",
    "    result = text_analytics_client.extract_key_phrases(articles)\n",
    "    for idx, doc in enumerate(result):\n",
    "        if not doc.is_error:\n",
    "            print(\"Key phrases in article #{}: {}\".format(\n",
    "                idx + 1,\n",
    "                \", \".join(doc.key_phrases)\n",
    "            ))\n",
    "    # [END extract_key_phrases]\n",
    "            if \"Microsoft\" in doc.key_phrases:\n",
    "                articles_that_mention_microsoft.append(str(idx + 1))\n",
    "\n",
    "    print(\n",
    "        \"The articles that mention Microsoft are articles number: {}. Those are the ones I'm interested in reading.\".format(\n",
    "            \", \".join(articles_that_mention_microsoft)\n",
    "        )\n",
    "    )\n",
    "\n",
    "\n",
    "if __name__ == '__main__':\n",
    "    sample_extract_key_phrases()"
   ]
  }
 ],
 "metadata": {
  "kernelspec": {
   "display_name": "Python 3",
   "language": "python",
   "name": "python3"
  },
  "language_info": {
   "codemirror_mode": {
    "name": "ipython",
    "version": 3
   },
   "file_extension": ".py",
   "mimetype": "text/x-python",
   "name": "python",
   "nbconvert_exporter": "python",
   "pygments_lexer": "ipython3",
   "version": "3.12.5"
  }
 },
 "nbformat": 4,
 "nbformat_minor": 2
}
