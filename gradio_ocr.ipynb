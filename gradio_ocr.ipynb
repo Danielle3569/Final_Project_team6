{
 "cells": [
  {
   "cell_type": "code",
   "execution_count": 1,
   "metadata": {},
   "outputs": [
    {
     "name": "stderr",
     "output_type": "stream",
     "text": [
      "c:\\Users\\USER\\.pyenv\\pyenv-win\\versions\\3.12.5\\Lib\\site-packages\\tqdm\\auto.py:21: TqdmWarning: IProgress not found. Please update jupyter and ipywidgets. See https://ipywidgets.readthedocs.io/en/stable/user_install.html\n",
      "  from .autonotebook import tqdm as notebook_tqdm\n"
     ]
    },
    {
     "name": "stdout",
     "output_type": "stream",
     "text": [
      "Running on local URL:  http://127.0.0.1:7862\n",
      "\n",
      "To create a public link, set `share=True` in `launch()`.\n"
     ]
    },
    {
     "data": {
      "text/html": [
       "<div><iframe src=\"http://127.0.0.1:7862/\" width=\"100%\" height=\"500\" allow=\"autoplay; camera; microphone; clipboard-read; clipboard-write;\" frameborder=\"0\" allowfullscreen></iframe></div>"
      ],
      "text/plain": [
       "<IPython.core.display.HTML object>"
      ]
     },
     "metadata": {},
     "output_type": "display_data"
    },
    {
     "data": {
      "text/plain": []
     },
     "execution_count": 1,
     "metadata": {},
     "output_type": "execute_result"
    }
   ],
   "source": [
    "import requests\n",
    "import gradio as gr\n",
    "from PIL import Image, ImageDraw, ImageFont\n",
    "import json\n",
    "import platform\n",
    "\n",
    "\n",
    "def request_vision(image_path):\n",
    "    endpoint = f\"https://computervision06.cognitiveservices.azure.com/computervision/imageanalysis:analyze\"\n",
    "    api_key = \"c7703f4920df4cda8965e7e170e94214\"\n",
    "\n",
    "    headers = {\n",
    "        \"Content-Type\": \"application/octet-stream\",\n",
    "        \"Ocp-Apim-Subscription-Key\": api_key\n",
    "    }\n",
    "\n",
    "    params = {\n",
    "        'api-version': '2024-02-01',\n",
    "        'features': 'read,caption'\n",
    "    }\n",
    "\n",
    "    with open(image_path, 'rb') as image:\n",
    "        image_data = image.read()\n",
    "\n",
    "    response = requests.post(endpoint,\n",
    "                             headers=headers,\n",
    "                             params=params,\n",
    "                             data=image_data)\n",
    "    \n",
    "    response_json = response.json()\n",
    "    return response_json\n",
    "\n",
    "\n",
    "def change_image(image_path):\n",
    "\n",
    "    image = Image.open(image_path)\n",
    "    draw = ImageDraw.Draw(image)\n",
    "\n",
    "    font_size = 20\n",
    "    if platform.system() == 'Darwin':\n",
    "        font = ImageFont.truetype('AppleGothic.ttf', size=font_size)\n",
    "    elif platform.system() == 'Windows':\n",
    "        font = ImageFont.truetype('malgun.ttf', size=font_size)\n",
    "    else:\n",
    "        font = ImageFont.load_default(size=font_size)\n",
    "    \n",
    "    response_json = request_vision(image_path=image_path)\n",
    "    \n",
    "    output_data = []\n",
    "\n",
    "    if 'readResult' in response_json and 'blocks' in response_json['readResult']:\n",
    "        block_list = response_json['readResult']['blocks']\n",
    "\n",
    "        for block in block_list:\n",
    "            line_list = block['lines']\n",
    "            for line in line_list:\n",
    "                text = line['text']\n",
    "                bounding_polygon = line['boundingPolygon']\n",
    "                polygon = list(map(lambda p: (p['x'], p['y']), bounding_polygon))\n",
    "                draw.polygon(polygon, outline='red', fill=None, width=3)\n",
    "                draw.text((bounding_polygon[3]['x'], bounding_polygon[3]['y'] + 3), text=text, fill='green', font=font)\n",
    "                \n",
    "                output_data.append({\n",
    "                    \"text\": text,\n",
    "                    \"bounding_polygon\": bounding_polygon\n",
    "                })\n",
    "\n",
    "    with open('ocr_output.json', 'w') as json_file:\n",
    "        json.dump(output_data, json_file, indent=4)\n",
    "\n",
    "    return image\n",
    "\n",
    "with gr.Blocks() as demo:\n",
    "\n",
    "    input_image = gr.Image(label='이미지 선택', type='filepath', width=800)\n",
    "    output_image = gr.Image(label='결과 이미지', type='pil', interactive=False, width=800)\n",
    "\n",
    "    input_image.change(fn=change_image, inputs=[input_image], outputs=[output_image])\n",
    "\n",
    "demo.launch()\n"
   ]
  },
  {
   "cell_type": "code",
   "execution_count": 7,
   "metadata": {},
   "outputs": [],
   "source": [
    "## pdf를 ocr로 인식하는 법"
   ]
  },
  {
   "cell_type": "code",
   "execution_count": 4,
   "metadata": {},
   "outputs": [
    {
     "name": "stdout",
     "output_type": "stream",
     "text": [
      "Collecting PyMuPDF\n",
      "  Downloading PyMuPDF-1.24.10-cp312-none-win_amd64.whl.metadata (3.4 kB)\n",
      "Collecting PyMuPDFb==1.24.10 (from PyMuPDF)\n",
      "  Downloading PyMuPDFb-1.24.10-py3-none-win_amd64.whl.metadata (1.4 kB)\n",
      "Downloading PyMuPDF-1.24.10-cp312-none-win_amd64.whl (3.2 MB)\n",
      "   ---------------------------------------- 0.0/3.2 MB ? eta -:--:--\n",
      "   ---------------------------------------- 3.2/3.2 MB 31.9 MB/s eta 0:00:00\n",
      "Downloading PyMuPDFb-1.24.10-py3-none-win_amd64.whl (13.2 MB)\n",
      "   ---------------------------------------- 0.0/13.2 MB ? eta -:--:--\n",
      "   ------------------------ --------------- 8.1/13.2 MB 41.8 MB/s eta 0:00:01\n",
      "   ---------------------------------------- 13.2/13.2 MB 36.0 MB/s eta 0:00:00\n",
      "Installing collected packages: PyMuPDFb, PyMuPDF\n",
      "Successfully installed PyMuPDF-1.24.10 PyMuPDFb-1.24.10\n",
      "Note: you may need to restart the kernel to use updated packages.\n"
     ]
    },
    {
     "name": "stderr",
     "output_type": "stream",
     "text": [
      "  WARNING: The script pymupdf.exe is installed in 'c:\\Users\\USER\\.pyenv\\pyenv-win\\versions\\3.12.5\\Scripts' which is not on PATH.\n",
      "  Consider adding this directory to PATH or, if you prefer to suppress this warning, use --no-warn-script-location.\n"
     ]
    }
   ],
   "source": [
    "pip install PyMuPDF"
   ]
  },
  {
   "cell_type": "code",
   "execution_count": 1,
   "metadata": {},
   "outputs": [
    {
     "name": "stderr",
     "output_type": "stream",
     "text": [
      "c:\\Users\\USER\\.pyenv\\pyenv-win\\versions\\3.12.5\\Lib\\site-packages\\tqdm\\auto.py:21: TqdmWarning: IProgress not found. Please update jupyter and ipywidgets. See https://ipywidgets.readthedocs.io/en/stable/user_install.html\n",
      "  from .autonotebook import tqdm as notebook_tqdm\n"
     ]
    },
    {
     "name": "stdout",
     "output_type": "stream",
     "text": [
      "Running on local URL:  http://127.0.0.1:7860\n",
      "\n",
      "To create a public link, set `share=True` in `launch()`.\n"
     ]
    },
    {
     "data": {
      "text/html": [
       "<div><iframe src=\"http://127.0.0.1:7860/\" width=\"100%\" height=\"500\" allow=\"autoplay; camera; microphone; clipboard-read; clipboard-write;\" frameborder=\"0\" allowfullscreen></iframe></div>"
      ],
      "text/plain": [
       "<IPython.core.display.HTML object>"
      ]
     },
     "metadata": {},
     "output_type": "display_data"
    },
    {
     "data": {
      "text/plain": []
     },
     "execution_count": 1,
     "metadata": {},
     "output_type": "execute_result"
    }
   ],
   "source": [
    "import requests\n",
    "import gradio as gr\n",
    "from PIL import Image, ImageDraw, ImageFont\n",
    "import json\n",
    "import platform\n",
    "import fitz  # PyMuPDF\n",
    "\n",
    "def pdf_to_images(pdf_path):\n",
    "    doc = fitz.open(pdf_path)\n",
    "    images = []\n",
    "    for page_num in range(len(doc)):\n",
    "        page = doc.load_page(page_num)\n",
    "        pix = page.get_pixmap()\n",
    "        img = Image.frombytes(\"RGB\", [pix.width, pix.height], pix.samples)\n",
    "        images.append(img)\n",
    "    return images\n",
    "\n",
    "def request_vision(image):\n",
    "    endpoint = f\"https://computervision06.cognitiveservices.azure.com/computervision/imageanalysis:analyze\"\n",
    "    api_key = \"c7703f4920df4cda8965e7e170e94214\"\n",
    "\n",
    "    headers = {\n",
    "        \"Content-Type\": \"application/octet-stream\",\n",
    "        \"Ocp-Apim-Subscription-Key\": api_key\n",
    "    }\n",
    "\n",
    "    params = {\n",
    "        'api-version': '2024-02-01',\n",
    "        'features': 'read,caption'\n",
    "    }\n",
    "\n",
    "    image_data = image.tobytes()\n",
    "\n",
    "    response = requests.post(endpoint,\n",
    "                             headers=headers,\n",
    "                             params=params,\n",
    "                             data=image_data)\n",
    "    \n",
    "    response_json = response.json()\n",
    "    return response_json\n",
    "\n",
    "def change_image(image):\n",
    "    draw = ImageDraw.Draw(image)\n",
    "\n",
    "    font_size = 20\n",
    "    if platform.system() == 'Darwin':\n",
    "        font = ImageFont.truetype('AppleGothic.ttf', size=font_size)\n",
    "    elif platform.system() == 'Windows':\n",
    "        font = ImageFont.truetype('malgun.ttf', size=font_size)\n",
    "    else:\n",
    "        font = ImageFont.load_default(size=font_size)\n",
    "    \n",
    "    response_json = request_vision(image)\n",
    "    \n",
    "    output_data = []\n",
    "\n",
    "    if 'readResult' in response_json and 'blocks' in response_json['readResult']:\n",
    "        block_list = response_json['readResult']['blocks']\n",
    "\n",
    "        for block in block_list:\n",
    "            line_list = block['lines']\n",
    "            for line in line_list:\n",
    "                text = line['text']\n",
    "                bounding_polygon = line['boundingPolygon']\n",
    "                polygon = list(map(lambda p: (p['x'], p['y']), bounding_polygon))\n",
    "                draw.polygon(polygon, outline='red', fill=None, width=3)\n",
    "                draw.text((bounding_polygon[3]['x'], bounding_polygon[3]['y'] + 3), text=text, fill='green', font=font)\n",
    "                \n",
    "                output_data.append({\n",
    "                    \"text\": text,\n",
    "                    \"bounding_polygon\": bounding_polygon\n",
    "                })\n",
    "\n",
    "    with open('ocr_output.json', 'w') as json_file:\n",
    "        json.dump(output_data, json_file, indent=4)\n",
    "\n",
    "    return image\n",
    "\n",
    "def process_pdf(pdf_path):\n",
    "    images = pdf_to_images(pdf_path)\n",
    "    processed_images = [change_image(image) for image in images]\n",
    "    return processed_images\n",
    "\n",
    "with gr.Blocks() as demo:\n",
    "\n",
    "    input_pdf = gr.File(label='PDF 파일 선택', type='filepath')\n",
    "    output_images = gr.Gallery(label='결과 이미지', type='pil', interactive=False)\n",
    "\n",
    "    input_pdf.change(fn=process_pdf, inputs=[input_pdf], outputs=[output_images])\n",
    "\n",
    "demo.launch()\n"
   ]
  }
 ],
 "metadata": {
  "kernelspec": {
   "display_name": "Python 3",
   "language": "python",
   "name": "python3"
  },
  "language_info": {
   "codemirror_mode": {
    "name": "ipython",
    "version": 3
   },
   "file_extension": ".py",
   "mimetype": "text/x-python",
   "name": "python",
   "nbconvert_exporter": "python",
   "pygments_lexer": "ipython3",
   "version": "3.12.5"
  }
 },
 "nbformat": 4,
 "nbformat_minor": 2
}
