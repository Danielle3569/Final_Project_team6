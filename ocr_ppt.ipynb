{
 "cells": [
  {
   "cell_type": "code",
   "execution_count": 4,
   "metadata": {},
   "outputs": [
    {
     "name": "stdout",
     "output_type": "stream",
     "text": [
      "Collecting python-pptx\n",
      "  Downloading python_pptx-1.0.2-py3-none-any.whl.metadata (2.5 kB)\n",
      "Requirement already satisfied: Pillow>=3.3.2 in c:\\users\\user\\.pyenv\\pyenv-win\\versions\\3.12.5\\lib\\site-packages (from python-pptx) (10.4.0)\n",
      "Collecting XlsxWriter>=0.5.7 (from python-pptx)\n",
      "  Downloading XlsxWriter-3.2.0-py3-none-any.whl.metadata (2.6 kB)\n",
      "Collecting lxml>=3.1.0 (from python-pptx)\n",
      "  Downloading lxml-5.3.0-cp312-cp312-win_amd64.whl.metadata (3.9 kB)\n",
      "Requirement already satisfied: typing-extensions>=4.9.0 in c:\\users\\user\\.pyenv\\pyenv-win\\versions\\3.12.5\\lib\\site-packages (from python-pptx) (4.12.2)\n",
      "Downloading python_pptx-1.0.2-py3-none-any.whl (472 kB)\n",
      "Downloading lxml-5.3.0-cp312-cp312-win_amd64.whl (3.8 MB)\n",
      "   ---------------------------------------- 0.0/3.8 MB ? eta -:--:--\n",
      "   ----------------------------------- ---- 3.4/3.8 MB 20.2 MB/s eta 0:00:01\n",
      "   ---------------------------------------- 3.8/3.8 MB 12.7 MB/s eta 0:00:00\n",
      "Downloading XlsxWriter-3.2.0-py3-none-any.whl (159 kB)\n",
      "Installing collected packages: XlsxWriter, lxml, python-pptx\n",
      "Successfully installed XlsxWriter-3.2.0 lxml-5.3.0 python-pptx-1.0.2\n",
      "Note: you may need to restart the kernel to use updated packages.\n"
     ]
    }
   ],
   "source": [
    "pip install python-pptx\n"
   ]
  },
  {
   "cell_type": "code",
   "execution_count": 7,
   "metadata": {},
   "outputs": [
    {
     "name": "stdout",
     "output_type": "stream",
     "text": [
      "The OCR results have been successfully saved to ocr_result.pptx.\n"
     ]
    }
   ],
   "source": [
    "from pptx import Presentation\n",
    "import json\n",
    "\n",
    "# JSON 파일 읽기\n",
    "with open('ocr_output.json', 'r', encoding='utf-8') as file:\n",
    "    data = json.load(file)\n",
    "\n",
    "# 프레젠테이션 객체 생성\n",
    "prs = Presentation()\n",
    "slide_layout = prs.slide_layouts[1]  # 제목과 내용이 있는 레이아웃 사용\n",
    "\n",
    "# JSON 데이터의 각 항목을 슬라이드에 추가\n",
    "for item in data:\n",
    "    slide = prs.slides.add_slide(slide_layout)\n",
    "    title = slide.shapes.title\n",
    "    content = slide.placeholders[1]\n",
    "    title.text = \"OCR Result\"\n",
    "    content.text = item['text']\n",
    "\n",
    "# 프레젠테이션 파일로 저장\n",
    "prs.save('ocr_result.pptx')\n",
    "\n",
    "print(\"The OCR results have been successfully saved to ocr_result.pptx.\")\n"
   ]
  }
 ],
 "metadata": {
  "kernelspec": {
   "display_name": "Python 3",
   "language": "python",
   "name": "python3"
  },
  "language_info": {
   "codemirror_mode": {
    "name": "ipython",
    "version": 3
   },
   "file_extension": ".py",
   "mimetype": "text/x-python",
   "name": "python",
   "nbconvert_exporter": "python",
   "pygments_lexer": "ipython3",
   "version": "3.12.5"
  }
 },
 "nbformat": 4,
 "nbformat_minor": 2
}
